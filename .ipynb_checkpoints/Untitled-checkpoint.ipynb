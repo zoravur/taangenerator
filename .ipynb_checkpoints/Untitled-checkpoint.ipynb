{
 "cells": [
  {
   "cell_type": "code",
   "execution_count": 1,
   "id": "6478c58d-c717-4675-9f4d-f3663fc27c28",
   "metadata": {},
   "outputs": [],
   "source": [
    "import random\n",
    "from collections import defaultdict\n",
    "\n",
    "# scale degrees for a hypothetical raga (e.g., Yaman)\n",
    "# s = 0, r = 2, g = 4, m = 5, p = 7, d = 9, n = 11, S = 12 (octave)\n",
    "raga_notes = [0, 2, 4, 6, 7, 9, 11, 12]  # could exclude some in ascent/descent\n",
    "\n",
    "note_names = {\n",
    "    0: \"S\", 2: \"R\", 4: \"G\", 6: \"M\", 7: \"P\", 9: \"D\", 11: \"N\", 12: \"S'\"\n",
    "}\n"
   ]
  },
  {
   "cell_type": "code",
   "execution_count": 2,
   "id": "b670054c-85e8-4f65-8fca-9277affd52ce",
   "metadata": {},
   "outputs": [],
   "source": [
    "class TaanGenerator:\n",
    "    def __init__(self, raga_notes):\n",
    "        self.notes = raga_notes\n",
    "        self.transitions = defaultdict(lambda: defaultdict(float))  # (a,b) -> c -> weight\n",
    "\n",
    "    def observe(self, a, b, c, weight=1.0):\n",
    "        self.transitions[(a, b)][c] += weight\n",
    "\n",
    "    def normalize(self):\n",
    "        for k, targets in self.transitions.items():\n",
    "            total = sum(targets.values())\n",
    "            for t in targets:\n",
    "                targets[t] /= total\n",
    "\n",
    "    def sample_next(self, a, b):\n",
    "        choices = self.transitions.get((a, b), {})\n",
    "        if not choices:\n",
    "            return random.choice(self.notes)\n",
    "        return random.choices(list(choices), weights=list(choices.values()))[0]\n"
   ]
  },
  {
   "cell_type": "code",
   "execution_count": 3,
   "id": "5f53bf03-8e48-4969-b074-b51d1321af96",
   "metadata": {},
   "outputs": [],
   "source": [
    "# Example: reinforce ascending and descending runs\n",
    "tg = TaanGenerator(raga_notes)\n",
    "\n",
    "# Simple runs (Sa Re Ga Ma...)\n",
    "for i in range(len(raga_notes) - 2):\n",
    "    a, b, c = raga_notes[i], raga_notes[i+1], raga_notes[i+2]\n",
    "    tg.observe(a, b, c, weight=2.0)  # ascending\n",
    "    tg.observe(c, b, a, weight=1.5)  # descending\n",
    "\n",
    "# Some oscillations\n",
    "for i in range(len(raga_notes) - 1):\n",
    "    a, b = raga_notes[i], raga_notes[i+1]\n",
    "    tg.observe(a, b, a, weight=0.8)\n",
    "\n",
    "tg.normalize()\n"
   ]
  },
  {
   "cell_type": "code",
   "execution_count": 4,
   "id": "e68cd480-8099-48ac-ab93-2ae4c93c0446",
   "metadata": {},
   "outputs": [],
   "source": [
    "def generate_taan(tg, beats, start_note, end_note):\n",
    "    total_notes = beats * 2\n",
    "    tries = 0\n",
    "    while tries < 1000:\n",
    "        tries += 1\n",
    "        taan = [start_note]\n",
    "        # pick second note randomly to start memory\n",
    "        taan.append(random.choice([n for n in tg.notes if n != start_note]))\n",
    "\n",
    "        while len(taan) < total_notes:\n",
    "            a, b = taan[-2], taan[-1]\n",
    "            next_note = tg.sample_next(a, b)\n",
    "            taan.append(next_note)\n",
    "\n",
    "        if taan[-1] == end_note:\n",
    "            return taan\n",
    "    return None\n"
   ]
  },
  {
   "cell_type": "code",
   "execution_count": 6,
   "id": "40fe7344-f1ec-49f7-98c6-e049a826040e",
   "metadata": {},
   "outputs": [
    {
     "name": "stdout",
     "output_type": "stream",
     "text": [
      "S P P D N S' N D P M G R S G D S\n"
     ]
    }
   ],
   "source": [
    "def print_taan(taan):\n",
    "    return \" \".join(note_names.get(n, str(n)) for n in taan)\n",
    "\n",
    "# example usage\n",
    "taan = generate_taan(tg, beats=8, start_note=0, end_note=0)\n",
    "print(print_taan(taan))\n"
   ]
  },
  {
   "cell_type": "code",
   "execution_count": 7,
   "id": "6073ba1e-0294-4e3b-9950-e7b2ce443d5a",
   "metadata": {},
   "outputs": [],
   "source": [
    "# feedback loop: if a taan sounds good, reinforce it\n",
    "def reinforce_taan(tg, taan, weight=1.0):\n",
    "    for i in range(len(taan) - 2):\n",
    "        tg.observe(taan[i], taan[i+1], taan[i+2], weight=weight)\n",
    "    tg.normalize()"
   ]
  },
  {
   "cell_type": "code",
   "execution_count": 8,
   "id": "fe13a6b9-5f68-4e0d-89c1-fdb8f2b497c1",
   "metadata": {},
   "outputs": [
    {
     "name": "stdout",
     "output_type": "stream",
     "text": [
      "Collecting pyfluidsynth\n",
      "  Downloading pyfluidsynth-1.3.4-py3-none-any.whl.metadata (7.5 kB)\n",
      "Requirement already satisfied: numpy in /home/zoravur/micromamba/envs/mechinterp4/lib/python3.10/site-packages (from pyfluidsynth) (2.1.3)\n",
      "Downloading pyfluidsynth-1.3.4-py3-none-any.whl (22 kB)\n",
      "Installing collected packages: pyfluidsynth\n",
      "Successfully installed pyfluidsynth-1.3.4\n"
     ]
    }
   ],
   "source": [
    "!pip install pyfluidsynth"
   ]
  },
  {
   "cell_type": "code",
   "execution_count": 9,
   "id": "56734999-7413-4f2f-9f5c-90433cf0e785",
   "metadata": {},
   "outputs": [
    {
     "ename": "OSError",
     "evalue": "/home/zoravur/micromamba/envs/mechinterp4/bin/../lib/libstdc++.so.6: version `GLIBCXX_3.4.32' not found (required by /lib/x86_64-linux-gnu/libjack.so.0)",
     "output_type": "error",
     "traceback": [
      "\u001b[0;31m---------------------------------------------------------------------------\u001b[0m",
      "\u001b[0;31mOSError\u001b[0m                                   Traceback (most recent call last)",
      "Cell \u001b[0;32mIn[9], line 1\u001b[0m\n\u001b[0;32m----> 1\u001b[0m \u001b[38;5;28;01mimport\u001b[39;00m \u001b[38;5;21;01mfluidsynth\u001b[39;00m\n\u001b[1;32m      2\u001b[0m \u001b[38;5;28;01mimport\u001b[39;00m \u001b[38;5;21;01mtime\u001b[39;00m\n\u001b[1;32m      4\u001b[0m fs \u001b[38;5;241m=\u001b[39m fluidsynth\u001b[38;5;241m.\u001b[39mSynth()\n",
      "File \u001b[0;32m~/micromamba/envs/mechinterp4/lib/python3.10/site-packages/fluidsynth.py:86\u001b[0m\n\u001b[1;32m     82\u001b[0m lib \u001b[38;5;241m=\u001b[39m load_libfluidsynth()\n\u001b[1;32m     84\u001b[0m \u001b[38;5;66;03m# Dynamically link the FluidSynth library\u001b[39;00m\n\u001b[1;32m     85\u001b[0m \u001b[38;5;66;03m# Architecture (32-/64-bit) must match your Python version\u001b[39;00m\n\u001b[0;32m---> 86\u001b[0m _fl \u001b[38;5;241m=\u001b[39m \u001b[43mCDLL\u001b[49m\u001b[43m(\u001b[49m\u001b[43mlib\u001b[49m\u001b[43m)\u001b[49m\n\u001b[1;32m     88\u001b[0m \u001b[38;5;66;03m# Helper function for declaring function prototypes\u001b[39;00m\n\u001b[1;32m     89\u001b[0m \u001b[38;5;28;01mdef\u001b[39;00m \u001b[38;5;21mcfunc\u001b[39m(name, result, \u001b[38;5;241m*\u001b[39margs):\n",
      "File \u001b[0;32m~/micromamba/envs/mechinterp4/lib/python3.10/ctypes/__init__.py:374\u001b[0m, in \u001b[0;36mCDLL.__init__\u001b[0;34m(self, name, mode, handle, use_errno, use_last_error, winmode)\u001b[0m\n\u001b[1;32m    371\u001b[0m \u001b[38;5;28mself\u001b[39m\u001b[38;5;241m.\u001b[39m_FuncPtr \u001b[38;5;241m=\u001b[39m _FuncPtr\n\u001b[1;32m    373\u001b[0m \u001b[38;5;28;01mif\u001b[39;00m handle \u001b[38;5;129;01mis\u001b[39;00m \u001b[38;5;28;01mNone\u001b[39;00m:\n\u001b[0;32m--> 374\u001b[0m     \u001b[38;5;28mself\u001b[39m\u001b[38;5;241m.\u001b[39m_handle \u001b[38;5;241m=\u001b[39m \u001b[43m_dlopen\u001b[49m\u001b[43m(\u001b[49m\u001b[38;5;28;43mself\u001b[39;49m\u001b[38;5;241;43m.\u001b[39;49m\u001b[43m_name\u001b[49m\u001b[43m,\u001b[49m\u001b[43m \u001b[49m\u001b[43mmode\u001b[49m\u001b[43m)\u001b[49m\n\u001b[1;32m    375\u001b[0m \u001b[38;5;28;01melse\u001b[39;00m:\n\u001b[1;32m    376\u001b[0m     \u001b[38;5;28mself\u001b[39m\u001b[38;5;241m.\u001b[39m_handle \u001b[38;5;241m=\u001b[39m handle\n",
      "\u001b[0;31mOSError\u001b[0m: /home/zoravur/micromamba/envs/mechinterp4/bin/../lib/libstdc++.so.6: version `GLIBCXX_3.4.32' not found (required by /lib/x86_64-linux-gnu/libjack.so.0)"
     ]
    }
   ],
   "source": [
    "import fluidsynth\n",
    "import time\n",
    "\n",
    "fs = fluidsynth.Synth()\n",
    "fs.start()\n",
    "\n",
    "sfid = fs.sfload(\"~/soundfonts/FluidR3_GM.sf2\")\n",
    "fs.program_select(0, sfid, 0, 0)  # bank 0, preset 0 (acoustic grand piano)\n",
    "\n",
    "# helper: play taan\n",
    "def play_taan(taan, bpm=120, base_pitch=60):  # C4\n",
    "    beat_duration = 60 / bpm\n",
    "    half_beat = beat_duration / 2\n",
    "    for note in taan:\n",
    "        pitch = base_pitch + note  # map scale degrees to MIDI\n",
    "        fs.noteon(0, pitch, 100)\n",
    "        time.sleep(half_beat)\n",
    "        fs.noteoff(0, pitch)\n",
    "\n",
    "    fs.delete()\n",
    "\n",
    "# example: play the last taan\n",
    "play_taan(taan)\n"
   ]
  },
  {
   "cell_type": "code",
   "execution_count": null,
   "id": "793297a4-f01f-4f95-9109-4d2d6dcd3b64",
   "metadata": {},
   "outputs": [],
   "source": []
  }
 ],
 "metadata": {
  "kernelspec": {
   "display_name": "Python 3 (ipykernel)",
   "language": "python",
   "name": "python3"
  },
  "language_info": {
   "codemirror_mode": {
    "name": "ipython",
    "version": 3
   },
   "file_extension": ".py",
   "mimetype": "text/x-python",
   "name": "python",
   "nbconvert_exporter": "python",
   "pygments_lexer": "ipython3",
   "version": "3.10.15"
  }
 },
 "nbformat": 4,
 "nbformat_minor": 5
}
