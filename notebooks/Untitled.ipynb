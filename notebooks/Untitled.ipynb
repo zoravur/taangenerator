{
 "cells": [
  {
   "cell_type": "code",
   "execution_count": 2,
   "id": "6478c58d-c717-4675-9f4d-f3663fc27c28",
   "metadata": {},
   "outputs": [
    {
     "ename": "SyntaxError",
     "evalue": "'[' was never closed (2317827451.py, line 7)",
     "output_type": "error",
     "traceback": [
      "  \u001b[36mCell\u001b[39m\u001b[36m \u001b[39m\u001b[32mIn[2]\u001b[39m\u001b[32m, line 7\u001b[39m\n\u001b[31m    \u001b[39m\u001b[31mraga_notes = [note + 1 for note in [0, 2, 4, 6, 7, 9, 11, 12]  # could exclude some in ascent/descent\u001b[39m\n                 ^\n\u001b[31mSyntaxError\u001b[39m\u001b[31m:\u001b[39m '[' was never closed\n"
     ]
    }
   ],
   "source": [
    "import random\n",
    "import os\n",
    "from collections import defaultdict\n",
    "\n",
    "# scale degrees for a hypothetical raga (e.g., Yaman)\n",
    "# s = 0, r = 2, g = 4, m = 5, p = 7, d = 9, n = 11, S = 12 (octave)\n",
    "raga_notes = [note + 1 for note in [0, 2, 4, 6, 7, 9, 11, 12]  # could exclude some in ascent/descent\n",
    "\n",
    "note_names = {\n",
    "    0: \"S\", 2: \"R\", 4: \"G\", 6: \"M\", 7: \"P\", 9: \"D\", 11: \"N\", 12: \"S'\"\n",
    "}\n"
   ]
  },
  {
   "cell_type": "code",
   "execution_count": 3,
   "id": "b670054c-85e8-4f65-8fca-9277affd52ce",
   "metadata": {},
   "outputs": [],
   "source": [
    "class TaanGenerator:\n",
    "    def __init__(self, raga_notes):\n",
    "        self.notes = raga_notes\n",
    "        self.transitions = defaultdict(lambda: defaultdict(float))  # (a,b) -> c -> weight\n",
    "\n",
    "    def observe(self, a, b, c, weight=1.0):\n",
    "        self.transitions[(a, b)][c] += weight\n",
    "\n",
    "    def normalize(self):\n",
    "        for k, targets in self.transitions.items():\n",
    "            total = sum(targets.values())\n",
    "            for t in targets:\n",
    "                targets[t] /= total\n",
    "\n",
    "    def sample_next(self, a, b):\n",
    "        choices = self.transitions.get((a, b), {})\n",
    "        if not choices:\n",
    "            return random.choice(self.notes)\n",
    "        return random.choices(list(choices), weights=list(choices.values()))[0]\n"
   ]
  },
  {
   "cell_type": "code",
   "execution_count": 4,
   "id": "5f53bf03-8e48-4969-b074-b51d1321af96",
   "metadata": {},
   "outputs": [],
   "source": [
    "# Example: reinforce ascending and descending runs\n",
    "tg = TaanGenerator(raga_notes)\n",
    "\n",
    "# Simple runs (Sa Re Ga Ma...)\n",
    "for i in range(len(raga_notes) - 2):\n",
    "    a, b, c = raga_notes[i], raga_notes[i+1], raga_notes[i+2]\n",
    "    tg.observe(a, b, c, weight=2.0)  # ascending\n",
    "    tg.observe(c, b, a, weight=1.5)  # descending\n",
    "\n",
    "# Some oscillations\n",
    "for i in range(len(raga_notes) - 1):\n",
    "    a, b = raga_notes[i], raga_notes[i+1]\n",
    "    tg.observe(a, b, a, weight=0.8)\n",
    "\n",
    "tg.normalize()\n"
   ]
  },
  {
   "cell_type": "code",
   "execution_count": 5,
   "id": "e68cd480-8099-48ac-ab93-2ae4c93c0446",
   "metadata": {},
   "outputs": [],
   "source": [
    "def generate_taan(tg, beats, start_note, end_note):\n",
    "    total_notes = beats * 2\n",
    "    tries = 0\n",
    "    while tries < 1000:\n",
    "        tries += 1\n",
    "        taan = [start_note]\n",
    "        # pick second note randomly to start memory\n",
    "        taan.append(random.choice([n for n in tg.notes if n != start_note]))\n",
    "\n",
    "        while len(taan) < total_notes:\n",
    "            a, b = taan[-2], taan[-1]\n",
    "            next_note = tg.sample_next(a, b)\n",
    "            taan.append(next_note)\n",
    "\n",
    "        if taan[-1] == end_note:\n",
    "            return taan\n",
    "    return None\n"
   ]
  },
  {
   "cell_type": "code",
   "execution_count": 1,
   "id": "40fe7344-f1ec-49f7-98c6-e049a826040e",
   "metadata": {},
   "outputs": [
    {
     "ename": "NameError",
     "evalue": "name 'generate_taan' is not defined",
     "output_type": "error",
     "traceback": [
      "\u001b[31m---------------------------------------------------------------------------\u001b[39m",
      "\u001b[31mNameError\u001b[39m                                 Traceback (most recent call last)",
      "\u001b[36mCell\u001b[39m\u001b[36m \u001b[39m\u001b[32mIn[1]\u001b[39m\u001b[32m, line 5\u001b[39m\n\u001b[32m      2\u001b[39m     \u001b[38;5;28;01mreturn\u001b[39;00m \u001b[33m\"\u001b[39m\u001b[33m \u001b[39m\u001b[33m\"\u001b[39m.join(note_names.get(n, \u001b[38;5;28mstr\u001b[39m(n)) \u001b[38;5;28;01mfor\u001b[39;00m n \u001b[38;5;129;01min\u001b[39;00m taan)\n\u001b[32m      4\u001b[39m \u001b[38;5;66;03m# example usage\u001b[39;00m\n\u001b[32m----> \u001b[39m\u001b[32m5\u001b[39m taan = \u001b[43mgenerate_taan\u001b[49m(tg, beats=\u001b[32m12\u001b[39m, start_note=\u001b[32m0\u001b[39m, end_note=\u001b[32m0\u001b[39m)\n\u001b[32m      6\u001b[39m \u001b[38;5;28mprint\u001b[39m(print_taan(taan))\n",
      "\u001b[31mNameError\u001b[39m: name 'generate_taan' is not defined"
     ]
    }
   ],
   "source": [
    "def print_taan(taan):\n",
    "    return \" \".join(note_names.get(n, str(n)) for n in taan)\n",
    "\n",
    "# example usage\n",
    "taan = generate_taan(tg, beats=12, start_note=0, end_note=0)\n",
    "print(print_taan(taan))\n"
   ]
  },
  {
   "cell_type": "code",
   "execution_count": 7,
   "id": "6073ba1e-0294-4e3b-9950-e7b2ce443d5a",
   "metadata": {},
   "outputs": [],
   "source": [
    "# feedback loop: if a taan sounds good, reinforce it\n",
    "def reinforce_taan(tg, taan, weight=1.0):\n",
    "    for i in range(len(taan) - 2):\n",
    "        tg.observe(taan[i], taan[i+1], taan[i+2], weight=weight)\n",
    "    tg.normalize()"
   ]
  },
  {
   "cell_type": "code",
   "execution_count": 10,
   "id": "fe13a6b9-5f68-4e0d-89c1-fdb8f2b497c1",
   "metadata": {},
   "outputs": [
    {
     "name": "stdout",
     "output_type": "stream",
     "text": [
      "Requirement already satisfied: pyfluidsynth in ./venv/lib/python3.12/site-packages (1.3.4)\n",
      "Requirement already satisfied: numpy in ./venv/lib/python3.12/site-packages (from pyfluidsynth) (2.2.5)\n",
      "\n",
      "\u001b[1m[\u001b[0m\u001b[34;49mnotice\u001b[0m\u001b[1;39;49m]\u001b[0m\u001b[39;49m A new release of pip is available: \u001b[0m\u001b[31;49m24.2\u001b[0m\u001b[39;49m -> \u001b[0m\u001b[32;49m25.1.1\u001b[0m\n",
      "\u001b[1m[\u001b[0m\u001b[34;49mnotice\u001b[0m\u001b[1;39;49m]\u001b[0m\u001b[39;49m To update, run: \u001b[0m\u001b[32;49mpip install --upgrade pip\u001b[0m\n"
     ]
    }
   ],
   "source": [
    "!pip install pyfluidsynth"
   ]
  },
  {
   "cell_type": "code",
   "execution_count": 9,
   "id": "56734999-7413-4f2f-9f5c-90433cf0e785",
   "metadata": {},
   "outputs": [
    {
     "name": "stderr",
     "output_type": "stream",
     "text": [
      "fluidsynth: warning: Failed to set thread to high priority\n",
      "fluidsynth: warning: Failed to set thread to high priority\n"
     ]
    }
   ],
   "source": [
    "import fluidsynth\n",
    "import time\n",
    "import os\n",
    "import time\n",
    "import threading\n",
    "from pydub import AudioSegment\n",
    "from pydub.playback import _play_with_simpleaudio as play\n",
    "import fluidsynth\n",
    "\n",
    "fs = fluidsynth.Synth()\n",
    "fs.start()\n",
    "\n",
    "sfid = fs.sfload(os.path.expanduser(\"~/soundfonts/FluidR3_GM.sf2\"))\n",
    "fs.program_select(0, sfid, 0, 0)  # bank 0, preset 0 (acoustic grand piano)\n",
    "\n",
    "# helper: play taan\n",
    "def play_taan(taan, bpm=200, base_pitch=60):  # C4\n",
    "    beat_duration = 60 / bpm\n",
    "    half_beat = beat_duration / 2\n",
    "    for note in taan:\n",
    "        pitch = base_pitch + note  # map scale degrees to MIDI\n",
    "        fs.noteon(0, pitch, 100)\n",
    "        time.sleep(half_beat)\n",
    "        fs.noteoff(0, pitch)\n",
    "\n",
    "    fs.delete()\n",
    "\n",
    "# example: play the last taan\n",
    "play_taan(taan)\n"
   ]
  },
  {
   "cell_type": "code",
   "execution_count": 10,
   "id": "e10a7c46-5a82-41cf-85fc-04731e7c94a3",
   "metadata": {},
   "outputs": [
    {
     "name": "stdout",
     "output_type": "stream",
     "text": [
      "FluidSynth runtime version 2.3.4\n",
      "Copyright (C) 2000-2023 Peter Hanappe and others.\n",
      "Distributed under the LGPL license.\n",
      "SoundFont(R) is a registered trademark of Creative Technology Ltd.\n",
      "\n",
      "Rendering audio to file 'taan.wav'..\n"
     ]
    }
   ],
   "source": [
    "from mido import Message, MidiFile, MidiTrack\n",
    "import subprocess\n",
    "\n",
    "def save_taan_as_midi(taan, filename=\"taan.mid\", base_pitch=60, bpm=200):\n",
    "    mid = MidiFile()\n",
    "    track = MidiTrack()\n",
    "    mid.tracks.append(track)\n",
    "\n",
    "    tick_per_beat = mid.ticks_per_beat\n",
    "    tick_duration = int(tick_per_beat / 2)\n",
    "\n",
    "    for note in taan:\n",
    "        pitch = base_pitch + note\n",
    "        track.append(Message('note_on', note=pitch, velocity=100, time=0))\n",
    "        track.append(Message('note_off', note=pitch, velocity=100, time=tick_duration))\n",
    "\n",
    "    mid.save(filename)\n",
    "\n",
    "def render_midi_to_wav(midi_path, wav_path, sf2_path):\n",
    "    subprocess.run([\n",
    "        \"fluidsynth\", \"-ni\", sf2_path, midi_path,\n",
    "        \"-F\", wav_path, \"-r\", \"44100\"\n",
    "    ])\n",
    "\n",
    "# paths\n",
    "sf2_path = \"/home/zoravur/soundfonts/FluidR3_GM.sf2\"\n",
    "save_taan_as_midi(taan, \"taan.mid\")\n",
    "render_midi_to_wav(\"taan.mid\", \"taan.wav\", sf2_path)\n"
   ]
  },
  {
   "cell_type": "code",
   "execution_count": 13,
   "id": "26e2ef87-d7c2-4354-acc8-46c6ddaa44cf",
   "metadata": {},
   "outputs": [
    {
     "data": {
      "text/plain": [
       "<simpleaudio.shiny.PlayObject at 0x7681a5f43350>"
      ]
     },
     "execution_count": 13,
     "metadata": {},
     "output_type": "execute_result"
    }
   ],
   "source": [
    "# === setup: audio loop ===\n",
    "loop_path = os.path.expanduser(\"~/Documents/music/ektaal_200bpm_csharp.wav\")\n",
    "taal_loop = AudioSegment.from_wav(loop_path)\n",
    "taan_audio = AudioSegment.from_wav(\"taan.wav\")\n",
    "combined = taal_loop.overlay(taan_audio)\n",
    "combined.export(\"combined.wav\", format=\"wav\")\n",
    "play(combined)\n"
   ]
  },
  {
   "cell_type": "code",
   "execution_count": null,
   "id": "b3f215e7-d556-4f07-8737-766005ebb553",
   "metadata": {},
   "outputs": [],
   "source": []
  }
 ],
 "metadata": {
  "kernelspec": {
   "display_name": "Python 3 (ipykernel)",
   "language": "python",
   "name": "python3"
  },
  "language_info": {
   "codemirror_mode": {
    "name": "ipython",
    "version": 3
   },
   "file_extension": ".py",
   "mimetype": "text/x-python",
   "name": "python",
   "nbconvert_exporter": "python",
   "pygments_lexer": "ipython3",
   "version": "3.12.3"
  }
 },
 "nbformat": 4,
 "nbformat_minor": 5
}
